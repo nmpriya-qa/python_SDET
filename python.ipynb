{
 "cells": [
  {
   "cell_type": "code",
   "execution_count": 9,
   "metadata": {},
   "outputs": [
    {
     "data": {
      "text/plain": [
       "'olleh'"
      ]
     },
     "execution_count": 9,
     "metadata": {},
     "output_type": "execute_result"
    }
   ],
   "source": [
    "# 1. Reverse a string \n",
    "word = \"hello\"\n",
    "word[::-1]"
   ]
  },
  {
   "cell_type": "code",
   "execution_count": 10,
   "metadata": {},
   "outputs": [
    {
     "data": {
      "text/plain": [
       "'shtam'"
      ]
     },
     "execution_count": 10,
     "metadata": {},
     "output_type": "execute_result"
    }
   ],
   "source": [
    "# 2. Reverse a string without using built-in functions or indexing\n",
    "def reverse_string(word: str) -> str:\n",
    "    reversed_word = \"\"\n",
    "    for char in word:\n",
    "        reversed_word = char + reversed_word\n",
    "    return reversed_word\n",
    "reverse_string(\"maths\")"
   ]
  },
  {
   "cell_type": "code",
   "execution_count": 11,
   "metadata": {},
   "outputs": [
    {
     "data": {
      "text/plain": [
       "20"
      ]
     },
     "execution_count": 11,
     "metadata": {},
     "output_type": "execute_result"
    }
   ],
   "source": [
    "# 3. In a given list of numbers, return the sum of all even positive integers. If no even numbers present or the given list is empty return Zero\n",
    "\n",
    "numbers = [1,2,4,5,6,8,9,0,-1,-3,-4] # returns 20\n",
    "empty_list = [] # returns 0\n",
    "odd_nos = [3,5]  # returns 0\n",
    "\n",
    "def sum_of_even_nos_in_list(numbers):\n",
    "    sum=0\n",
    "    if not numbers == []:\n",
    "        for num in numbers:\n",
    "            sum = sum + num if num >0 and num%2 == 0 else sum\n",
    "    return sum   \n",
    "\n",
    "sum_of_even_nos_in_list(numbers)"
   ]
  },
  {
   "cell_type": "code",
   "execution_count": 12,
   "metadata": {},
   "outputs": [
    {
     "data": {
      "text/plain": [
       "[(1, 6), (8, 10), (15, 18), (20, 22)]"
      ]
     },
     "execution_count": 12,
     "metadata": {},
     "output_type": "execute_result"
    }
   ],
   "source": [
    "# 4. In a given list of intervals, merge the overlapping ones and return the result along with non-overlapping range\n",
    "Input = [(2,3),(1,6),(8,10),(15,18),(20,22),(21,22)]\n",
    "# Output : [(1,6),(8,10),(15,18),(20,22)]\n",
    "\n",
    "def merge_intervals(list_of_intervals:list) -> list:\n",
    "    if len(list_of_intervals) == 0:\n",
    "        return []\n",
    "    \n",
    "    #sorting the list to compare it correctly\n",
    "    list_of_intervals.sort(key=lambda x: x[0])\n",
    "\n",
    "    current_start, current_end = list_of_intervals[0]\n",
    "\n",
    "    res = []\n",
    "    \n",
    "    for start,end in list_of_intervals[1:]:\n",
    "        if  current_end >= start:\n",
    "            current_end = max(end,current_end)\n",
    "        else:\n",
    "            res.append((current_start,current_end))\n",
    "            current_start,current_end = start, end\n",
    "    #appending the last entry\n",
    "    res.append((current_start,current_end))\n",
    "    return res\n",
    "\n",
    "merge_intervals(Input)"
   ]
  },
  {
   "cell_type": "code",
   "execution_count": 13,
   "metadata": {},
   "outputs": [
    {
     "data": {
      "text/plain": [
       "'a1b2c3d2y4z1'"
      ]
     },
     "execution_count": 13,
     "metadata": {},
     "output_type": "execute_result"
    }
   ],
   "source": [
    "# 5. Count the number of occurences of a character in a string and reframe the string like the output\n",
    "input = \"abbcccddyyyyz\"\n",
    "# output = \"a1b2c3d2y4z1\"\n",
    "\n",
    "def count_of_char(word: str) -> str:\n",
    "    res = \"\"\n",
    "    for char in word:\n",
    "        if char not in res:\n",
    "            res += char + str(word.count(char))\n",
    "    return res\n",
    "\n",
    "count_of_char(input)"
   ]
  },
  {
   "cell_type": "code",
   "execution_count": 14,
   "metadata": {},
   "outputs": [
    {
     "data": {
      "text/plain": [
       "[1, 2, 3, 4, 5, 6, 7, 8, 9, 10]"
      ]
     },
     "execution_count": 14,
     "metadata": {},
     "output_type": "execute_result"
    }
   ],
   "source": [
    "# 6. Flatten the given nested list\n",
    "nested_l = [1,2,[3,4,[5,6,7],8,9],10]\n",
    "# output = [1,2,3,4,5,6,7,8,9,10]\n",
    "\n",
    "def flatten(l: list) -> list:\n",
    "    res =[]\n",
    "    for ele in l:\n",
    "        if not isinstance(ele,list):\n",
    "            res.append(ele)\n",
    "        else:\n",
    "            res.extend(flatten(ele))\n",
    "    return res\n",
    "\n",
    "flatten(nested_l)"
   ]
  },
  {
   "cell_type": "code",
   "execution_count": 15,
   "metadata": {},
   "outputs": [
    {
     "data": {
      "text/plain": [
       "35621"
      ]
     },
     "execution_count": 15,
     "metadata": {},
     "output_type": "execute_result"
    }
   ],
   "source": [
    "# 7. Reverse the digits of a number without converting to anyother datatype\n",
    "no = 12653\n",
    "# output = 35621\n",
    "\n",
    "def reverse_no(number: int) ->int:\n",
    "    reversed_no = 0\n",
    "    while number > 0:\n",
    "        remainder = number % 10\n",
    "        reversed_no = (reversed_no * 10) + remainder\n",
    "        number = number // 10\n",
    "    return reversed_no\n",
    "\n",
    "reverse_no(no)"
   ]
  },
  {
   "cell_type": "code",
   "execution_count": 1,
   "metadata": {},
   "outputs": [
    {
     "name": "stdout",
     "output_type": "stream",
     "text": [
      "A\n",
      "BB\n",
      "CCC\n"
     ]
    }
   ],
   "source": [
    "# 8. print character pyramid for given number.\n",
    "import string\n",
    "\n",
    "def alphabets_pyramid(no_of_rows:int):\n",
    "    if no_of_rows == 0 or no_of_rows >26:\n",
    "        raise ValueError(\"Number should be given between 1 and 26\")\n",
    "    alphabets = string.ascii_uppercase\n",
    "    for row in range(1,no_of_rows+1):\n",
    "        print(alphabets[row-1]*row)\n",
    "\n",
    "alphabets_pyramid(3)"
   ]
  },
  {
   "cell_type": "code",
   "execution_count": null,
   "metadata": {},
   "outputs": [],
   "source": []
  }
 ],
 "metadata": {
  "kernelspec": {
   "display_name": "testenv",
   "language": "python",
   "name": "python3"
  },
  "language_info": {
   "codemirror_mode": {
    "name": "ipython",
    "version": 3
   },
   "file_extension": ".py",
   "mimetype": "text/x-python",
   "name": "python",
   "nbconvert_exporter": "python",
   "pygments_lexer": "ipython3",
   "version": "3.12.4"
  }
 },
 "nbformat": 4,
 "nbformat_minor": 2
}
